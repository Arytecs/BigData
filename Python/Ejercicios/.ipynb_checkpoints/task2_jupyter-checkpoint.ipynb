{
 "cells": [
  {
   "cell_type": "code",
   "execution_count": 1,
   "metadata": {},
   "outputs": [
    {
     "name": "stdout",
     "output_type": "stream",
     "text": [
      "Matriz A: \n",
      "[[ 18.  12.  15.   6.   1.]\n",
      " [  3.   9.   7.   6.   0.]\n",
      " [  0.   0.  15.   7.  19.]\n",
      " [  3.   2.  13.  17.   7.]\n",
      " [  4.  17.  18.  14.  19.]]\n",
      "Vector b:  [ 575.  264.  411.  490.  754.]\n",
      "Solution (x) del sistema Ax=b:  [ 15.   9.   6.  16.  11.]\n",
      "Comprobación de la solución con la operación Ax (A.dot(x)):  [ 575.  264.  411.  490.  754.]\n",
      "Comparación de Ax con el vector b (A.dot(x)==b):  [ True  True  True False  True]\n"
     ]
    }
   ],
   "source": [
    "import numpy\n",
    "import MyEquation\n",
    "import subprocess\n",
    "\n",
    "#Creamos el fichero system.txt llamando al siguiente archivo\n",
    "subprocess.call([\"python\", \"equation-system-generator.py\"])\n",
    "#Leemos el archivo que nos devolverá la matriz A y el vector b\n",
    "A,b = MyEquation.load_equation_system( 'system.txt' )\n",
    "print(\"Matriz A: \")\n",
    "print(A)\n",
    "print(\"Vector b: \", b)\n",
    "#numpy.linalg.solve --> Nos devuelve la solución de una equación lineal de matrices de la forma Ax=b\n",
    "x = numpy.linalg.solve(A, b)\n",
    "print( \"Solution (x) del sistema Ax=b: \", x )\n",
    "print(\"Comprobación de la solución con la operación Ax (A.dot(x)): \", A.dot(x))"
   ]
  },
  {
   "cell_type": "code",
   "execution_count": null,
   "metadata": {
    "collapsed": true
   },
   "outputs": [],
   "source": []
  }
 ],
 "metadata": {
  "kernelspec": {
   "display_name": "Python 3",
   "language": "python",
   "name": "python3"
  },
  "language_info": {
   "codemirror_mode": {
    "name": "ipython",
    "version": 3
   },
   "file_extension": ".py",
   "mimetype": "text/x-python",
   "name": "python",
   "nbconvert_exporter": "python",
   "pygments_lexer": "ipython3",
   "version": "3.6.1"
  }
 },
 "nbformat": 4,
 "nbformat_minor": 2
}
